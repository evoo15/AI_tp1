{
 "cells": [
  {
   "cell_type": "code",
   "execution_count": 34,
   "metadata": {
    "collapsed": true,
    "pycharm": {
     "is_executing": false,
     "name": "#%%\n"
    }
   },
   "outputs": [
    {
     "name": "stdout",
     "text": [
      "-- si Douleur = \"Abdomen\" et Vomissements = Faux alors Appendicite = Vrai\n\nDouleur = \"Abdomen\" \n Vomissements = Faux \n------->>>>\n Appendicite = Vrai\n**************************\n-- si Douleur = \"Abdomen\" et Vomissements = Vrai alors Intoxication alimentaire = Vrai\n\nDouleur = \"Abdomen\" \n Vomissements = Vrai \n------->>>>\n Intoxication alimentaire = Vrai\n**************************\n-- si Douleur = \"Abdomen\" et Sexe = \"Femme\" alors DysmÃ©norrhÃ©e = Vrai\n\nDouleur = \"Abdomen\" \n Sexe = \"Femme\" \n------->>>>\n DysmÃ©norrhÃ©e = Vrai\n**************************\n-- si Douleur = \"Gorge\" et FiÃ¨vre = Vrai alors Rhume = Vrai\n\nDouleur = \"Gorge\" \n FiÃ¨vre = Vrai \n------->>>>\n Rhume = Vrai\n**************************\n-- si Douleur = \"Poitrine\" alors Infarctus = Vrai\n\nDouleur = \"Poitrine\" \n------->>>>\n Infarctus = Vrai\n**************************\n-- si Douleur = \"Gorge\" et FiÃ¨vre = Faux alors Mal de gorge = Vrai\n\nDouleur = \"Gorge\" \n FiÃ¨vre = Faux \n------->>>>\n Mal de gorge = Vrai\n**************************\n-- si Douleur = \"Aucun\" et Toux = Vrai et FiÃ¨vre = Vrai alors Rhume = Vrai\n\nDouleur = \"Aucun\" \n Toux = Vrai \n FiÃ¨vre = Vrai \n------->>>>\n Rhume = Vrai\n**************************\n-- si Douleur = \"Aucun\" et Toux = Vrai et FiÃ¨vre = Faux alors Refroidissement = Vrai\nDouleur = \"Aucun\" \n Toux = Vrai \n FiÃ¨vre = Faux \n------->>>>\n Refroidissement = Vrai\n**************************\n[<__main__.Regle object at 0x00000209DBD83A08>, <__main__.Regle object at 0x00000209DBD2F608>, <__main__.Regle object at 0x00000209DBD4BEC8>, <__main__.Regle object at 0x00000209DBD4B2C8>, <__main__.Regle object at 0x00000209DBD82188>, <__main__.Regle object at 0x00000209DBD814C8>, <__main__.Regle object at 0x00000209DCE14C88>, <__main__.Regle object at 0x00000209DCE145C8>]\n"
     ],
     "output_type": "stream"
    }
   ],
   "source": [
    "\n",
    "class Regle:\n",
    "     \n",
    "    def __init__(self):\n",
    "        self.premises=[]\n",
    "        self.conclusion=[]\n",
    "        \n",
    "        \n",
    "class Premisse:\n",
    "    \n",
    "    def __init__(self):\n",
    "        self.attribut=''\n",
    "        self.operende=''\n",
    "        self.valeur=''\n",
    "        \n",
    "        \n",
    "class Fait:\n",
    "    def __init__(self):\n",
    "        self.attribut=''\n",
    "        self.valeur=''\n",
    "    \n",
    "    \n",
    "f= open(\"maladies/regles.txt\",\"r\")\n",
    "conclusion=[]\n",
    "premises=[]\n",
    "Regles=[]\n",
    "f1=f.readlines()\n",
    "\n",
    "\n",
    "for line in f1:\n",
    "     print('--',line)\n",
    "     x = line.split('alors',1)[0].split('et')\n",
    "     x[0]=x[0].split('si ',1)[1]\n",
    "     \n",
    "     R= Regle()\n",
    "     for premise in x:\n",
    "        \n",
    "         print(premise)\n",
    "         ##SPLIT PREMISE\n",
    "         pr=Premisse()\n",
    "         temp=premise.strip().split(' ')\n",
    "         pr.attribut=temp[0]\n",
    "         pr.operende=temp[1]\n",
    "         pr.valeur=temp[2]\n",
    "         \n",
    "         R.premises.append(pr)\n",
    "        \n",
    "         #exemple de recherche\n",
    "         #if (premise.find('Douleur = \"Gorge\"')>0):\n",
    "          #   print('trouve XXXXXXXXXXXXXXXX')\n",
    "             \n",
    "             \n",
    "     print('------->>>>')\n",
    "     \n",
    "     y= line.split('alors',1)[1].split('\\n',1)[0]\n",
    "     print(y)\n",
    "     #conclusion.append(y)\n",
    "     R.conclusion.append(y)\n",
    "\n",
    "     print('**************************')\n",
    "     \n",
    "     Regles.append(R)\n",
    "     \n",
    "     \n",
    "print(Regles)\n",
    "\n",
    "\n",
    "\n",
    "    \n",
    "        \n",
    "\n"
   ]
  }
 ],
 "metadata": {
  "kernelspec": {
   "display_name": "Python 3",
   "language": "python",
   "name": "python3"
  },
  "language_info": {
   "codemirror_mode": {
    "name": "ipython",
    "version": 2
   },
   "file_extension": ".py",
   "mimetype": "text/x-python",
   "name": "python",
   "nbconvert_exporter": "python",
   "pygments_lexer": "ipython2",
   "version": "2.7.6"
  },
  "pycharm": {
   "stem_cell": {
    "cell_type": "raw",
    "source": [],
    "metadata": {
     "collapsed": false
    }
   }
  }
 },
 "nbformat": 4,
 "nbformat_minor": 0
}