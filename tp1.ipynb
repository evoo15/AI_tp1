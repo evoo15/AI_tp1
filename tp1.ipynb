{
 "cells": [
  {
   "cell_type": "code",
   "execution_count": 4,
   "metadata": {
    "collapsed": true,
    "pycharm": {
     "is_executing": false
    }
   },
   "outputs": [
    {
     "name": "stdout",
     "text": [
      "-- si Douleur = \"Abdomen\" et Vomissements = Faux alors Appendicite = Vrai\n\n Douleur = \"Abdomen\" \n Vomissements = Faux \n------->>>>\n Appendicite = Vrai\n**************************\n-- si Douleur = \"Abdomen\" et Vomissements = Vrai alors Intoxication alimentaire = Vrai\n\n Douleur = \"Abdomen\" \n Vomissements = Vrai \n------->>>>\n Intoxication alimentaire = Vrai\n**************************\n-- si Douleur = \"Abdomen\" et Sexe = \"Femme\" alors DysmÃ©norrhÃ©e = Vrai\n\n Douleur = \"Abdomen\" \n Sexe = \"Femme\" \n------->>>>\n DysmÃ©norrhÃ©e = Vrai\n**************************\n-- si Douleur = \"Gorge\" et FiÃ¨vre = Vrai alors Rhume = Vrai\n\n Douleur = \"Gorge\" \n FiÃ¨vre = Vrai \n------->>>>\n Rhume = Vrai\n**************************\n-- si Douleur = \"Poitrine\" alors Infarctus = Vrai\n\n Douleur = \"Poitrine\" \n------->>>>\n Infarctus = Vrai\n**************************\n-- si Douleur = \"Gorge\" et FiÃ¨vre = Faux alors Mal de gorge = Vrai\n\n Douleur = \"Gorge\" \n FiÃ¨vre = Faux \n------->>>>\n Mal de gorge = Vrai\n**************************\n-- si Douleur = \"Aucun\" et Toux = Vrai et FiÃ¨vre = Vrai alors Rhume = Vrai\n\n Douleur = \"Aucun\" \n Toux = Vrai \n FiÃ¨vre = Vrai \n------->>>>\n Rhume = Vrai\n**************************\n-- si Douleur = \"Aucun\" et Toux = Vrai et FiÃ¨vre = Faux alors Refroidissement = Vrai\n Douleur = \"Aucun\" \n Toux = Vrai \n FiÃ¨vre = Faux \n------->>>>\n Refroidissement = Vrai\n**************************\n[<__main__.Regle object at 0x00000255A1399C48>, <__main__.Regle object at 0x00000255A1399788>, <__main__.Regle object at 0x00000255A136C588>, <__main__.Regle object at 0x00000255A1390408>, <__main__.Regle object at 0x00000255A1390048>, <__main__.Regle object at 0x00000255A1390148>, <__main__.Regle object at 0x00000255A1390388>, <__main__.Regle object at 0x00000255A1390D88>]\n"
     ],
     "output_type": "stream"
    }
   ],
   "source": [
    "\n",
    "class Regle:\n",
    "    premises=[]\n",
    "    conclusion=[]        \n",
    "    def __init__(self):\n",
    "        self.premises=[]\n",
    "        self.conclusion=[]\n",
    "        \n",
    "    \n",
    "    \n",
    "f= open(\"maladies/regles.txt\",\"r\")\n",
    "conclusion=[]\n",
    "premises=[]\n",
    "Regles=[]\n",
    "f1=f.readlines()\n",
    "\n",
    "\n",
    "for line in f1:\n",
    "     print('--',line)\n",
    "     x = line.split('alors',1)[0].split('et')\n",
    "     x[0]=x[0].split('si',1)[1]\n",
    "     \n",
    "     R= Regle()\n",
    "     for premise in x:\n",
    "        \n",
    "         print(premise)\n",
    "         R.premises.append(premise)\n",
    "        \n",
    "         #exemple de recherche\n",
    "         #if (premise.find('Douleur = \"Gorge\"')>0):\n",
    "          #   print('trouve XXXXXXXXXXXXXXXX')\n",
    "             \n",
    "             \n",
    "     print('------->>>>')\n",
    "     \n",
    "     y= line.split('alors',1)[1].split('\\n',1)[0]\n",
    "     print(y)\n",
    "     #conclusion.append(y)\n",
    "     R.conclusion.append(y)\n",
    "\n",
    "     print('**************************')\n",
    "     \n",
    "     Regles.append(R)\n",
    "     \n",
    "     \n",
    "print(Regles)\n",
    "\n",
    "\n",
    "\n",
    "    \n",
    "        \n",
    "\n"
   ]
  }
 ],
 "metadata": {
  "kernelspec": {
   "display_name": "Python 3",
   "language": "python",
   "name": "python3"
  },
  "language_info": {
   "codemirror_mode": {
    "name": "ipython",
    "version": 2
   },
   "file_extension": ".py",
   "mimetype": "text/x-python",
   "name": "python",
   "nbconvert_exporter": "python",
   "pygments_lexer": "ipython2",
   "version": "2.7.6"
  },
  "pycharm": {
   "stem_cell": {
    "cell_type": "raw",
    "source": [],
    "metadata": {
     "collapsed": false
    }
   }
  }
 },
 "nbformat": 4,
 "nbformat_minor": 0
}