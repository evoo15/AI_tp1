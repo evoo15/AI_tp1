{
 "cells": [
  {
   "cell_type": "code",
   "execution_count": 74,
   "metadata": {
    "collapsed": true,
    "pycharm": {
     "is_executing": false
    }
   },
   "outputs": [
    {
     "name": "stdout",
     "text": [
      "si Douleur = \"Abdomen\" et Vomissements = Faux alors Appendicite = Vrai\n\n Douleur = \"Abdomen\" \n Vomissements = Faux \n------->>>>\n Appendicite = Vrai\n**************************\nsi Douleur = \"Abdomen\" et Vomissements = Vrai alors Intoxication alimentaire = Vrai\n\n Douleur = \"Abdomen\" \n Vomissements = Vrai \n------->>>>\n Intoxication alimentaire = Vrai\n**************************\nsi Douleur = \"Abdomen\" et Sexe = \"Femme\" alors DysmÃ©norrhÃ©e = Vrai\n\n Douleur = \"Abdomen\" \n Sexe = \"Femme\" \n------->>>>\n DysmÃ©norrhÃ©e = Vrai\n**************************\nsi Douleur = \"Gorge\" et FiÃ¨vre = Vrai alors Rhume = Vrai\n\n Douleur = \"Gorge\" \ntrouve XXXXXXXXXXXXXXXX\n FiÃ¨vre = Vrai \n------->>>>\n Rhume = Vrai\n**************************\nsi Douleur = \"Poitrine\" alors Infarctus = Vrai\n\n Douleur = \"Poitrine\" \n------->>>>\n Infarctus = Vrai\n**************************\nsi Douleur = \"Gorge\" et FiÃ¨vre = Faux alors Mal de gorge = Vrai\n\n Douleur = \"Gorge\" \ntrouve XXXXXXXXXXXXXXXX\n FiÃ¨vre = Faux \n------->>>>\n Mal de gorge = Vrai\n**************************\nsi Douleur = \"Aucun\" et Toux = Vrai et FiÃ¨vre = Vrai alors Rhume = Vrai\n\n Douleur = \"Aucun\" \n Toux = Vrai \n FiÃ¨vre = Vrai \n------->>>>\n Rhume = Vrai\n**************************\nsi Douleur = \"Aucun\" et Toux = Vrai et FiÃ¨vre = Faux alors Refroidissement = Vrai\n Douleur = \"Aucun\" \n Toux = Vrai \n FiÃ¨vre = Faux \n------->>>>\n Refroidissement = Vrai\n**************************\n[<__main__.Regle object at 0x0000021410DAB288>, <__main__.Regle object at 0x0000021410D7D988>, <__main__.Regle object at 0x0000021410DABF08>, <__main__.Regle object at 0x0000021410DAB848>, <__main__.Regle object at 0x0000021410DABC48>, <__main__.Regle object at 0x0000021410DABE88>, <__main__.Regle object at 0x0000021410DAB208>, <__main__.Regle object at 0x0000021410D9F408>]\n"
     ],
     "output_type": "stream"
    }
   ],
   "source": [
    "\n",
    "class Regle:\n",
    "    conditions=[]\n",
    "    conclusion=[]        \n",
    "    def __init__(self):\n",
    "        self.conditions=[]\n",
    "        self.conclusion=[]\n",
    "        \n",
    "    \n",
    "    \n",
    "f= open(\"maladies/regles.txt\",\"r\")\n",
    "conclusion=[]\n",
    "conditions=[]\n",
    "Regles=[]\n",
    "f1=f.readlines()\n",
    "\n",
    "\n",
    "for line in f1:\n",
    "     print(line)\n",
    "     x = line.split('alors',1)[0].split('et')\n",
    "     x[0]=x[0].split('si',1)[1]\n",
    "     \n",
    "     R= Regle()\n",
    "     for condition in x:\n",
    "        \n",
    "         print(condition)\n",
    "         R.conditions.append(condition)\n",
    "         if (condition.find('Douleur = \"Gorge\"')>0):\n",
    "             print('trouve XXXXXXXXXXXXXXXX')\n",
    "     print('------->>>>')\n",
    "     \n",
    "     y= line.split('alors',1)[1].split('\\n',1)[0]\n",
    "     print(y)\n",
    "     #conclusion.append(y)\n",
    "     R.conclusion.append(y)\n",
    "\n",
    "     print('**************************')\n",
    "     \n",
    "     Regles.append(R)\n",
    "     \n",
    "     \n",
    "print(Regles)\n",
    "\n",
    "\n",
    "\n",
    "    \n",
    "        \n",
    "\n"
   ]
  }
 ],
 "metadata": {
  "kernelspec": {
   "display_name": "Python 3",
   "language": "python",
   "name": "python3"
  },
  "language_info": {
   "codemirror_mode": {
    "name": "ipython",
    "version": 2
   },
   "file_extension": ".py",
   "mimetype": "text/x-python",
   "name": "python",
   "nbconvert_exporter": "python",
   "pygments_lexer": "ipython2",
   "version": "2.7.6"
  },
  "pycharm": {
   "stem_cell": {
    "cell_type": "raw",
    "source": [],
    "metadata": {
     "collapsed": false
    }
   }
  }
 },
 "nbformat": 4,
 "nbformat_minor": 0
}