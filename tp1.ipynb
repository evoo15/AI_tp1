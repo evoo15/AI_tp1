{
 "cells": [
  {
   "cell_type": "code",
   "execution_count": 46,
   "metadata": {
    "collapsed": true,
    "pycharm": {
     "is_executing": false
    }
   },
   "outputs": [
    {
     "name": "stdout",
     "text": [
      "si Douleur = \"Abdomen\" et Vomissements = Faux alors Appendicite = Vrai\n\n Douleur = \"Abdomen\" \n Vomissements = Faux \n-------\n Appendicite = Vrai\n*******\nsi Douleur = \"Abdomen\" et Vomissements = Vrai alors Intoxication alimentaire = Vrai\n\n Douleur = \"Abdomen\" \n Vomissements = Vrai \n-------\n Intoxication alimentaire = Vrai\n*******\nsi Douleur = \"Abdomen\" et Sexe = \"Femme\" alors DysmÃ©norrhÃ©e = Vrai\n\n Douleur = \"Abdomen\" \n Sexe = \"Femme\" \n-------\n DysmÃ©norrhÃ©e = Vrai\n*******\nsi Douleur = \"Gorge\" et FiÃ¨vre = Vrai alors Rhume = Vrai\n\n Douleur = \"Gorge\" \n FiÃ¨vre = Vrai \n-------\n Rhume = Vrai\n*******\nsi Douleur = \"Poitrine\" alors Infarctus = Vrai\n\n Douleur = \"Poitrine\" \n-------\n Infarctus = Vrai\n*******\nsi Douleur = \"Gorge\" et FiÃ¨vre = Faux alors Mal de gorge = Vrai\n\n Douleur = \"Gorge\" \n FiÃ¨vre = Faux \n-------\n Mal de gorge = Vrai\n*******\nsi Douleur = \"Aucun\" et Toux = Vrai et FiÃ¨vre = Vrai alors Rhume = Vrai\n\n Douleur = \"Aucun\" \n Toux = Vrai \n FiÃ¨vre = Vrai \n-------\n Rhume = Vrai\n*******\nsi Douleur = \"Aucun\" et Toux = Vrai et FiÃ¨vre = Faux alors Refroidissement = Vrai\n Douleur = \"Aucun\" \n Toux = Vrai \n FiÃ¨vre = Faux \n-------\n Refroidissement = Vrai\n*******\nListe des conditions [' Douleur = \"Abdomen\" ', ' Vomissements = Faux ', ' Douleur = \"Abdomen\" ', ' Vomissements = Vrai ', ' Douleur = \"Abdomen\" ', ' Sexe = \"Femme\" ', ' Douleur = \"Gorge\" ', ' FiÃ¨vre = Vrai ', ' Douleur = \"Poitrine\" ', ' Douleur = \"Gorge\" ', ' FiÃ¨vre = Faux ', ' Douleur = \"Aucun\" ', ' Toux = Vrai ', ' FiÃ¨vre = Vrai ', ' Douleur = \"Aucun\" ', ' Toux = Vrai ', ' FiÃ¨vre = Faux ']\nListe des conclusions [' Appendicite = Vrai', ' Intoxication alimentaire = Vrai', ' DysmÃ©norrhÃ©e = Vrai', ' Rhume = Vrai', ' Infarctus = Vrai', ' Mal de gorge = Vrai', ' Rhume = Vrai', ' Refroidissement = Vrai']\n"
     ],
     "output_type": "stream"
    }
   ],
   "source": [
    "f= open(\"maladies/regles.txt\",\"r\")\n",
    "conclusion=[]\n",
    "conditions=[]\n",
    "\n",
    "f1=f.readlines()\n",
    "\n",
    "\n",
    "for line in f1:\n",
    "     print(line)\n",
    "     x = line.split('alors',1)[0].split('et')\n",
    "     x[0]=x[0].split('si',1)[1]\n",
    "     for condition in x:\n",
    "         print(condition)\n",
    "         conditions.append(condition)\n",
    "     print('-------')\n",
    "     \n",
    "     y= line.split('alors',1)[1].split('\\n',1)[0]\n",
    "     print(y)\n",
    "     conclusion.append(y)\n",
    "     print('*******')\n",
    "print('Liste des conditions',conditions)\n",
    "print('Liste des conclusions',conclusion)\n",
    "class Regle:\n",
    "    conditions=[]\n",
    "    conclusion=[]\n",
    "\n"
   ]
  }
 ],
 "metadata": {
  "kernelspec": {
   "display_name": "Python 3",
   "language": "python",
   "name": "python3"
  },
  "language_info": {
   "codemirror_mode": {
    "name": "ipython",
    "version": 2
   },
   "file_extension": ".py",
   "mimetype": "text/x-python",
   "name": "python",
   "nbconvert_exporter": "python",
   "pygments_lexer": "ipython2",
   "version": "2.7.6"
  },
  "pycharm": {
   "stem_cell": {
    "cell_type": "raw",
    "source": [],
    "metadata": {
     "collapsed": false
    }
   }
  }
 },
 "nbformat": 4,
 "nbformat_minor": 0
}